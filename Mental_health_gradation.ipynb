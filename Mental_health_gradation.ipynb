{
 "cells": [
  {
   "cell_type": "code",
   "execution_count": 93,
   "id": "3f8f0786",
   "metadata": {},
   "outputs": [],
   "source": [
    "import pandas as pd"
   ]
  },
  {
   "cell_type": "code",
   "execution_count": 94,
   "id": "df9fcdfe",
   "metadata": {},
   "outputs": [],
   "source": [
    "dataset = pd.read_csv('chats.csv')"
   ]
  },
  {
   "cell_type": "code",
   "execution_count": 95,
   "id": "6b5751f1",
   "metadata": {},
   "outputs": [],
   "source": [
    "# will make a separate file later on\n",
    "keywords = {\n",
    "    'Depression':['stress','low','depressed','depression','sad','dard','dukhi','akela','dar','daar','Akela','hopeless','Anxity','nehi hoga','ladki','single'],\n",
    "    'Happy':['Mazedar','mazedar','sahi hai','maja agya','wow','happy','great','khusi','hasi','badiya','masti','excited','sahi','aag','love','sweet','easy','best','moye moye','bsdk','gandu','ho jeyga','kar lengey',],   \n",
    "}"
   ]
  },
  {
   "cell_type": "code",
   "execution_count": 96,
   "id": "37190c1d",
   "metadata": {},
   "outputs": [],
   "source": [
    "def determine_condition(tweet):\n",
    "    for condition, condition_keywords in keywords.items():\n",
    "        for keyword in condition_keywords:\n",
    "            if keyword in tweet:\n",
    "                return condition\n",
    "    return 'No Condition'  # If no condition keyword is found"
   ]
  },
  {
   "cell_type": "code",
   "execution_count": 97,
   "id": "7666331d",
   "metadata": {},
   "outputs": [],
   "source": [
    "users_suffering = []\n",
    "conditions = []"
   ]
  },
  {
   "cell_type": "code",
   "execution_count": 98,
   "id": "25f36d08",
   "metadata": {},
   "outputs": [],
   "source": [
    "for index, row in dataset.iterrows():\n",
    "    user_id = row['user']\n",
    "    tweet = row['message']\n",
    "    condition = determine_condition(tweet)\n",
    "\n",
    "    if condition != 'No Condition':\n",
    "        users_suffering.append(user_id)\n",
    "        conditions.append(condition)"
   ]
  },
  {
   "cell_type": "code",
   "execution_count": 99,
   "id": "5a8adfcc",
   "metadata": {},
   "outputs": [
    {
     "data": {
      "text/html": [
       "<div>\n",
       "<style scoped>\n",
       "    .dataframe tbody tr th:only-of-type {\n",
       "        vertical-align: middle;\n",
       "    }\n",
       "\n",
       "    .dataframe tbody tr th {\n",
       "        vertical-align: top;\n",
       "    }\n",
       "\n",
       "    .dataframe thead th {\n",
       "        text-align: right;\n",
       "    }\n",
       "</style>\n",
       "<table border=\"1\" class=\"dataframe\">\n",
       "  <thead>\n",
       "    <tr style=\"text-align: right;\">\n",
       "      <th></th>\n",
       "      <th>User ID</th>\n",
       "      <th>Mental Health Condition</th>\n",
       "    </tr>\n",
       "  </thead>\n",
       "  <tbody>\n",
       "    <tr>\n",
       "      <th>0</th>\n",
       "      <td>Abhishek MnC</td>\n",
       "      <td>Happy</td>\n",
       "    </tr>\n",
       "    <tr>\n",
       "      <th>1</th>\n",
       "      <td>Ashish Mnc</td>\n",
       "      <td>Depression</td>\n",
       "    </tr>\n",
       "    <tr>\n",
       "      <th>2</th>\n",
       "      <td>Rishav Ranaut(MnC) Roommate</td>\n",
       "      <td>Depression</td>\n",
       "    </tr>\n",
       "    <tr>\n",
       "      <th>3</th>\n",
       "      <td>Rishav Ranaut(MnC) Roommate</td>\n",
       "      <td>Happy</td>\n",
       "    </tr>\n",
       "    <tr>\n",
       "      <th>4</th>\n",
       "      <td>Manisha Jaishwal Mnc</td>\n",
       "      <td>Depression</td>\n",
       "    </tr>\n",
       "    <tr>\n",
       "      <th>...</th>\n",
       "      <td>...</td>\n",
       "      <td>...</td>\n",
       "    </tr>\n",
       "    <tr>\n",
       "      <th>827</th>\n",
       "      <td>Lucky MnC</td>\n",
       "      <td>Depression</td>\n",
       "    </tr>\n",
       "    <tr>\n",
       "      <th>828</th>\n",
       "      <td>Ashish Mnc</td>\n",
       "      <td>Happy</td>\n",
       "    </tr>\n",
       "    <tr>\n",
       "      <th>829</th>\n",
       "      <td>Ashish Mnc</td>\n",
       "      <td>Depression</td>\n",
       "    </tr>\n",
       "    <tr>\n",
       "      <th>830</th>\n",
       "      <td>Rishav Ranaut(MnC) Roommate</td>\n",
       "      <td>Depression</td>\n",
       "    </tr>\n",
       "    <tr>\n",
       "      <th>831</th>\n",
       "      <td>Ashish Mnc</td>\n",
       "      <td>Depression</td>\n",
       "    </tr>\n",
       "  </tbody>\n",
       "</table>\n",
       "<p>832 rows × 2 columns</p>\n",
       "</div>"
      ],
      "text/plain": [
       "                         User ID Mental Health Condition\n",
       "0                   Abhishek MnC                   Happy\n",
       "1                     Ashish Mnc              Depression\n",
       "2    Rishav Ranaut(MnC) Roommate              Depression\n",
       "3    Rishav Ranaut(MnC) Roommate                   Happy\n",
       "4           Manisha Jaishwal Mnc              Depression\n",
       "..                           ...                     ...\n",
       "827                    Lucky MnC              Depression\n",
       "828                   Ashish Mnc                   Happy\n",
       "829                   Ashish Mnc              Depression\n",
       "830  Rishav Ranaut(MnC) Roommate              Depression\n",
       "831                   Ashish Mnc              Depression\n",
       "\n",
       "[832 rows x 2 columns]"
      ]
     },
     "execution_count": 99,
     "metadata": {},
     "output_type": "execute_result"
    }
   ],
   "source": [
    "results_df = pd.DataFrame({'User ID': users_suffering, 'Mental Health Condition': conditions})\n",
    "results_df"
   ]
  },
  {
   "cell_type": "code",
   "execution_count": 100,
   "id": "5ee86314",
   "metadata": {},
   "outputs": [
    {
     "name": "stdout",
     "output_type": "stream",
     "text": [
      "                           User ID Final Gradation\n",
      "0                     Abhishek MnC           Happy\n",
      "1                       Ashish Mnc           Happy\n",
      "2      Rishav Ranaut(MnC) Roommate           Happy\n",
      "4             Manisha Jaishwal Mnc      Depression\n",
      "6                          -- Raja           Happy\n",
      "9                 Shakti Singh Mnc      Depression\n",
      "12                       Lucky MnC      Depression\n",
      "19                 Ankit Anand Mnc           Happy\n",
      "20                       Sovan MnC      Depression\n",
      "37                    PROLAY KAYAL           Happy\n",
      "38    Sujit MNC Das(Patna, Howrah)      Depression\n",
      "39                     Asutosh MnC           Happy\n",
      "43            Souvik IIT Patna MnC      Depression\n",
      "54                       Intaz Mnc           Happy\n",
      "70                       dhruv MnC      Depression\n",
      "125                      Mintu MnC           Happy\n",
      "134  Ankit Anand(MnC) Ranchi..Dost           Happy\n",
      "154                        Khusboo           Happy\n",
      "278                    Suraj Kumar      Depression\n"
     ]
    }
   ],
   "source": [
    "\n",
    "\n",
    "# Assuming 'results_df' is your DataFrame\n",
    "# Create a new column to store the final gradation\n",
    "results_df['Final Gradation'] = ''\n",
    "\n",
    "# Group by User ID and count the frequency of each mental health condition\n",
    "for user_id, group in results_df.groupby('User ID'):\n",
    "    counts = group['Mental Health Condition'].value_counts()\n",
    "    if len(counts) == 1:\n",
    "        # If only one condition present, assign it as the final gradation\n",
    "        results_df.loc[results_df['User ID'] == user_id, 'Final Gradation'] = counts.index[0]\n",
    "    else:\n",
    "        # If both 'Depression' and 'Happy' present, choose one based on frequency\n",
    "        if 'Depression' in counts and 'Happy' in counts:\n",
    "            if counts['Depression'] >= counts['Happy']:\n",
    "                results_df.loc[results_df['User ID'] == user_id, 'Final Gradation'] = 'Depression'\n",
    "            else:\n",
    "                results_df.loc[results_df['User ID'] == user_id, 'Final Gradation'] = 'Happy'\n",
    "        elif 'Depression' in counts:\n",
    "            results_df.loc[results_df['User ID'] == user_id, 'Final Gradation'] = 'Depression'\n",
    "        else:\n",
    "            results_df.loc[results_df['User ID'] == user_id, 'Final Gradation'] = 'Happy'\n",
    "\n",
    "# Drop duplicates to keep only unique user IDs with their final gradation\n",
    "df_final = results_df[['User ID', 'Final Gradation']].drop_duplicates()\n",
    "\n",
    "# Print the final DataFrame\n",
    "print(df_final)\n"
   ]
  },
  {
   "cell_type": "code",
   "execution_count": 101,
   "id": "2d4f9216",
   "metadata": {},
   "outputs": [],
   "source": [
    "df_final.to_csv('mental_health_results.csv', index=False)"
   ]
  },
  {
   "cell_type": "code",
   "execution_count": 102,
   "id": "ed78c6ee",
   "metadata": {},
   "outputs": [
    {
     "name": "stdout",
     "output_type": "stream",
     "text": [
      "Results saved successfully as 'mentalHealth_Gradation.csv'\n"
     ]
    }
   ],
   "source": [
    "print(\"Results saved successfully as 'mentalHealth_Gradation.csv'\")"
   ]
  }
 ],
 "metadata": {
  "kernelspec": {
   "display_name": "Python 3 (ipykernel)",
   "language": "python",
   "name": "python3"
  },
  "language_info": {
   "codemirror_mode": {
    "name": "ipython",
    "version": 3
   },
   "file_extension": ".py",
   "mimetype": "text/x-python",
   "name": "python",
   "nbconvert_exporter": "python",
   "pygments_lexer": "ipython3",
   "version": "3.10.9"
  }
 },
 "nbformat": 4,
 "nbformat_minor": 5
}
